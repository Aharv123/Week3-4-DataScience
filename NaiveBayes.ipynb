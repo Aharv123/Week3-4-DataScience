{
 "cells": [
  {
   "cell_type": "code",
   "execution_count": 1,
   "id": "4609ff82-54ef-41b1-a12b-6ab3184da22e",
   "metadata": {},
   "outputs": [],
   "source": [
    "import pandas as pd\n",
    "import numpy as np\n",
    "from sklearn.naive_bayes import GaussianNB\n"
   ]
  },
  {
   "cell_type": "code",
   "execution_count": 9,
   "id": "f84cd0c6-47be-4cbe-ab5b-546203b035b0",
   "metadata": {},
   "outputs": [
    {
     "name": "stdout",
     "output_type": "stream",
     "text": [
      "SPAM PREDICTION:\n",
      " NOT SPAM\n"
     ]
    }
   ],
   "source": [
    "#Features: [length of email, number of spam words, is HTML?]\n",
    "\n",
    "X = np.array([[10, 2, 0], [50, 10, 1], [200, 30, 1], [5, 1, 0], [100, 20, 1]])\n",
    "#Label: 0 fro not spam, 1 for spam\n",
    "y = np.array([0, 1, 1, 0, 1])\n",
    "\n",
    "\n",
    "model = GaussianNB()\n",
    "lol = model.fit(X,y)\n",
    "\n",
    "\n",
    "new_data = np.array([[102,89,0]])\n",
    "prediction  = lol.predict(new_data)\n",
    "\n",
    "\n",
    "print(\"SPAM PREDICTION:\\n\",  \"SPAM\" if prediction == 1 else \"NOT SPAM\")"
   ]
  },
  {
   "cell_type": "code",
   "execution_count": null,
   "id": "8303e6db-b13a-40ad-86b9-2739ea168070",
   "metadata": {},
   "outputs": [],
   "source": []
  }
 ],
 "metadata": {
  "kernelspec": {
   "display_name": "Python 3 (ipykernel)",
   "language": "python",
   "name": "python3"
  },
  "language_info": {
   "codemirror_mode": {
    "name": "ipython",
    "version": 3
   },
   "file_extension": ".py",
   "mimetype": "text/x-python",
   "name": "python",
   "nbconvert_exporter": "python",
   "pygments_lexer": "ipython3",
   "version": "3.13.1"
  }
 },
 "nbformat": 4,
 "nbformat_minor": 5
}
